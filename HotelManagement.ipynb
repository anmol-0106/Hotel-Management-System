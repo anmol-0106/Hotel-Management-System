{
  "nbformat": 4,
  "nbformat_minor": 0,
  "metadata": {
    "colab": {
      "name": "AnmolGupta_12072_HotelManagement_1805375_ML.ipynb",
      "provenance": []
    },
    "kernelspec": {
      "name": "python3",
      "display_name": "Python 3"
    },
    "language_info": {
      "name": "python"
    }
  },
  "cells": [
    {
      "cell_type": "code",
      "metadata": {
        "id": "as0J9-dyhHni"
      },
      "source": [
        "class HotelManage:\n",
        "    def __init__(self,available_rooms,reserved_rooms,search_room):\n",
        "        self.available_rooms=available_rooms\n",
        "        self.reserved_rooms=reserved_rooms\n",
        "        self.search_room=search_room\n",
        "\n",
        "available_rooms=[]\n",
        "for x in range(1,101):\n",
        "      available_rooms.append(x)\n",
        "\n",
        "reserved_rooms=[]\n",
        "search_room={}\n",
        "\n",
        "n=HotelManage(available_rooms,reserved_rooms,search_room)"
      ],
      "execution_count": 1,
      "outputs": []
    },
    {
      "cell_type": "code",
      "metadata": {
        "id": "tKvcfc26hgVS"
      },
      "source": [
        "database={}\n",
        "\n",
        "class Customer(HotelManage):\n",
        "    def __init__(self,cust_name,phone_no,room,stay_duration,booked_rooms):\n",
        "        self.cust_name=cust_name\n",
        "        self.phone_no=phone_no\n",
        "        self.room=room\n",
        "        self.stay_duration=stay_duration\n",
        "        self.booked_rooms=booked_rooms\n",
        "\n",
        "\n",
        "    def append_data(self):\n",
        "        key=self.cust_name\n",
        "        database[key]=[self.phone_no,self.room,self.stay_duration,self.booked_rooms]"
      ],
      "execution_count": 2,
      "outputs": []
    },
    {
      "cell_type": "code",
      "metadata": {
        "id": "wbVf_tuPj3H-"
      },
      "source": [
        "def booking_menu():\n",
        "    while True:\n",
        "        print(\"Press: \")\n",
        "        print(\"1. Number of rooms available\")\n",
        "        print(\"2. Number of rooms reserved\")\n",
        "        print(\"3. To book a room\")\n",
        "        print(\"4. Go Back\")\n",
        "        ch=int(input(\"Enter Your Choice : \"))\n",
        "        if ch == 1:\n",
        "            print(\"\\n==> No. of rooms available are: \",len(n.available_rooms))\n",
        "        elif ch == 2:\n",
        "            print(\"\\n==> No. of rooms reserved are: \",len(n.reserved_rooms))\n",
        "        elif ch == 3:\n",
        "            room_booking()\n",
        "        elif ch == 4:\n",
        "            return\n",
        "        else:\n",
        "            print(\"***Invalid input!!! Please try again*****\")\n",
        "            continue"
      ],
      "execution_count": 3,
      "outputs": []
    },
    {
      "cell_type": "code",
      "metadata": {
        "id": "ro1wpEmOkxpl"
      },
      "source": [
        "def room_booking():\n",
        "      print(\"Enter Customer's Details =>\")\n",
        "      cust_name=input(\"Enter Customer's Name : \")\n",
        "      phone_no=input(\"Enter Phone No. : \")\n",
        "      room=int(input(\"How many rooms do you want to book ? : \"))\n",
        "      stay_duration = int(input(\"Duration of stay(in days) : \"))\n",
        "      \n",
        "\n",
        "      list_temp=[]\n",
        "      for x in range(0,room):\n",
        "          booked = n.available_rooms.pop(0)\n",
        "          list_temp.append(booked)\n",
        "          n.search_room[booked] = cust_name\n",
        "          n.reserved_rooms.append(booked)\n",
        "\n",
        "      cust_data=Customer(cust_name,phone_no,room,stay_duration,list_temp)\n",
        "      cust_data.append_data()\n",
        "      print(\"***Successfully booked!!!***\")\n",
        "      print(f\"Name : {cust_name} , Phone No. : {database[cust_name][0]} , No. of rooms : {database[cust_name][1]} , Stay Duration : {database[cust_name][2]} days, Rooms booked : {database[cust_name][3]} \")\n",
        "         "
      ],
      "execution_count": 4,
      "outputs": []
    },
    {
      "cell_type": "code",
      "metadata": {
        "id": "bTMDubosCk5j"
      },
      "source": [
        "def enquiry():\n",
        "\n",
        "  while True:\n",
        "        print(\"1. Searching with name of customer\")\n",
        "        print(\"2. Searching with room number\")\n",
        "        print(\"3. Check for availability of room\")\n",
        "        print(\"4. Go back\")\n",
        "        op=int(input(\"==>Enter Your Choice? : \"))\n",
        "        if(op==1):\n",
        "            name_search()\n",
        "        elif(op==2):\n",
        "            room_search()\n",
        "        elif(op==3):\n",
        "            availability_check()\n",
        "        elif(op==4):\n",
        "            return\n",
        "        else:\n",
        "            print(\"Invalid Input!!! Please try again\")"
      ],
      "execution_count": 5,
      "outputs": []
    },
    {
      "cell_type": "code",
      "metadata": {
        "id": "y3iEj7BxDjDn"
      },
      "source": [
        "def name_search():\n",
        "    cust_name=input(\"Enter Name of Customer : \")\n",
        "    if cust_name in database.keys():\n",
        "        print(\"Record Found !\")\n",
        "        print(f\"Name : {cust_name} , Phone No. : {database[cust_name][0]} , No. of rooms : {database[cust_name][1]} , Stay Duration : {database[cust_name][2]} days, Rooms booked : {database[cust_name][3]} \")\n",
        "        \n",
        "    else:\n",
        "        print(\"Record Not Found.\")\n",
        "        return"
      ],
      "execution_count": null,
      "outputs": []
    },
    {
      "cell_type": "code",
      "metadata": {
        "id": "VhFKq_2OE_Q8"
      },
      "source": [
        "def room_search():\n",
        "    rnum=int(input(\"Enter the Room number to be searched : \"))\n",
        "    if rnum in n.search_room.keys():\n",
        "        print(f\"room {rnum} has been booked by {n.search_room[rnum]}\")\n",
        "        rname = n.search_room[rnum]\n",
        "        print(f\"Name : {rname} , Phone No. : {database[rname][0]} , No. of rooms : {database[rname][1]} , Stay Duration : {database[rname][2]} days, Rooms booked : {database[rname][3]} \")\n",
        "        \n",
        "    elif(rnum < 101 or rnum > 150 ):          \n",
        "        print(\"Incorrect room number\")\n",
        "    else:\n",
        "        print(\"Room has not been booked\")\n"
      ],
      "execution_count": null,
      "outputs": []
    },
    {
      "cell_type": "code",
      "metadata": {
        "id": "QHX_ITeVFZSG"
      },
      "source": [
        "def availability_check():\n",
        "    room_check=int(input(\"Enter the Room number to be checked for availability : \"))\n",
        "    if room_check in n.available_rooms:\n",
        "        print(f'room {room_check} is available')\n",
        "    elif room_check in n.reserved_rooms:\n",
        "        print(f'room {room_check} is unavailable')\n",
        "    else:\n",
        "        print('Invalid room number')\n",
        "        return"
      ],
      "execution_count": null,
      "outputs": []
    },
    {
      "cell_type": "code",
      "metadata": {
        "id": "3ncI6W5hmZZy"
      },
      "source": [
        "def main():\n",
        "   \n",
        "    while True:\n",
        "        print(\"\\t\\t\\t*****Welcome to ABC Hotel*****\\t\\t\\t\")\n",
        "        print(\"***Home Menu***\\n\")\n",
        "        print(\"1. Booking\")\n",
        "        print(\"2. Enquiry\")\n",
        "        print(\"3. Exit\")\n",
        "        option=int(input(\"==>Enter Your Choice? : \"))\n",
        "        if(option==1):\n",
        "            booking_menu()\n",
        "        elif(option==2):\n",
        "            enquiry()\n",
        "        elif(option==3):\n",
        "            print(\"Thank you for using the hotel management system!\")\n",
        "            break\n",
        "        else:\n",
        "            print(\"Invalid Input!!! Please try again\")\n",
        "            continue"
      ],
      "execution_count": 9,
      "outputs": []
    },
    {
      "cell_type": "code",
      "metadata": {
        "colab": {
          "base_uri": "https://localhost:8080/"
        },
        "id": "Mmo9swdEorTO",
        "outputId": "73b93519-a238-4db6-d633-2a79af1b36bc"
      },
      "source": [
        "main()\n"
      ],
      "execution_count": 10,
      "outputs": [
        {
          "output_type": "stream",
          "text": [
            "\t\t\t*****Welcome to ABC Hotel*****\t\t\t\n",
            "***Home Menu***\n",
            "\n",
            "1. Booking\n",
            "2. Enquiry\n",
            "3. Exit\n",
            "==>Enter Your Choice? : 1\n",
            "Press: \n",
            "1. Number of rooms available\n",
            "2. Number of rooms reserved\n",
            "3. To book a room\n",
            "4. Go Back\n",
            "Enter Your Choice : 1\n",
            "\n",
            "==> No. of rooms available are:  100\n",
            "Press: \n",
            "1. Number of rooms available\n",
            "2. Number of rooms reserved\n",
            "3. To book a room\n",
            "4. Go Back\n",
            "Enter Your Choice : 2\n",
            "\n",
            "==> No. of rooms reserved are:  0\n",
            "Press: \n",
            "1. Number of rooms available\n",
            "2. Number of rooms reserved\n",
            "3. To book a room\n",
            "4. Go Back\n",
            "Enter Your Choice : 3\n",
            "Enter Customer's Details =>\n",
            "Enter Customer's Name : Abhishek\n",
            "Enter Phone No. : 6377290802\n",
            "How many rooms do you want to book ? : 3\n",
            "Duration of stay(in days) : 2\n",
            "***Successfully booked!!!***\n",
            "Name : Abhishek , Phone No. : 6377290802 , No. of rooms : 3 , Stay Duration : 2 days, Rooms booked : [1, 2, 3] \n",
            "Press: \n",
            "1. Number of rooms available\n",
            "2. Number of rooms reserved\n",
            "3. To book a room\n",
            "4. Go Back\n",
            "Enter Your Choice : 1\n",
            "\n",
            "==> No. of rooms available are:  97\n",
            "Press: \n",
            "1. Number of rooms available\n",
            "2. Number of rooms reserved\n",
            "3. To book a room\n",
            "4. Go Back\n",
            "Enter Your Choice : 2\n",
            "\n",
            "==> No. of rooms reserved are:  3\n",
            "Press: \n",
            "1. Number of rooms available\n",
            "2. Number of rooms reserved\n",
            "3. To book a room\n",
            "4. Go Back\n",
            "Enter Your Choice : 4\n",
            "\t\t\t*****Welcome to ABC Hotel*****\t\t\t\n",
            "***Home Menu***\n",
            "\n",
            "1. Booking\n",
            "2. Enquiry\n",
            "3. Exit\n",
            "==>Enter Your Choice? : 2\n",
            "1. Searching with name of customer\n",
            "2. Searching with room number\n",
            "3. Check for availability of room\n",
            "4. Go back\n",
            "==>Enter Your Choice? : 1\n",
            "Enter Name of Customer : Abhishek\n",
            "Record Found !\n",
            "Name : Abhishek , Phone No. : 6377290802 , No. of rooms : 3 , Stay Duration : 2 days, Rooms booked : [1, 2, 3] \n",
            "1. Searching with name of customer\n",
            "2. Searching with room number\n",
            "3. Check for availability of room\n",
            "4. Go back\n",
            "==>Enter Your Choice? : 2\n",
            "Enter the Room number to be searched : 2\n",
            "room 2 has been booked by Abhishek\n",
            "Name : Abhishek , Phone No. : 6377290802 , No. of rooms : 3 , Stay Duration : 2 days, Rooms booked : [1, 2, 3] \n",
            "1. Searching with name of customer\n",
            "2. Searching with room number\n",
            "3. Check for availability of room\n",
            "4. Go back\n",
            "==>Enter Your Choice? : 3\n",
            "Enter the Room number to be checked for availability : 1\n",
            "room 1 is unavailable\n",
            "1. Searching with name of customer\n",
            "2. Searching with room number\n",
            "3. Check for availability of room\n",
            "4. Go back\n",
            "==>Enter Your Choice? : 3\n",
            "Enter the Room number to be checked for availability : 12\n",
            "room 12 is available\n",
            "1. Searching with name of customer\n",
            "2. Searching with room number\n",
            "3. Check for availability of room\n",
            "4. Go back\n",
            "==>Enter Your Choice? : 4\n",
            "\t\t\t*****Welcome to ABC Hotel*****\t\t\t\n",
            "***Home Menu***\n",
            "\n",
            "1. Booking\n",
            "2. Enquiry\n",
            "3. Exit\n",
            "==>Enter Your Choice? : 3\n",
            "Thank you for using the hotel management system!\n"
          ],
          "name": "stdout"
        }
      ]
    }
  ]
}